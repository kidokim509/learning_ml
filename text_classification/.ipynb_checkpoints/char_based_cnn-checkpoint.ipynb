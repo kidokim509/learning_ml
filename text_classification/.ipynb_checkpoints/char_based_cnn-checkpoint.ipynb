{
 "cells": [
  {
   "cell_type": "code",
   "execution_count": 1,
   "metadata": {},
   "outputs": [
    {
     "name": "stderr",
     "output_type": "stream",
     "text": [
      "/Users/olaf/.pyenv/versions/anaconda3/envs/tfp3/lib/python3.6/importlib/_bootstrap.py:219: RuntimeWarning: compiletime version 3.5 of module 'tensorflow.python.framework.fast_tensor_util' does not match runtime version 3.6\n",
      "  return f(*args, **kwds)\n"
     ]
    }
   ],
   "source": [
    "import tensorflow as tf\n",
    "import pandas\n",
    "import numpy as np"
   ]
  },
  {
   "cell_type": "code",
   "execution_count": 2,
   "metadata": {},
   "outputs": [],
   "source": [
    "dbpedia = tf.contrib.learn.datasets.load_dataset(\n",
    "  'dbpedia', test_with_fake_data=False, size='small')\n",
    "x_train = pandas.DataFrame(dbpedia.train.data)[1]\n",
    "y_train = pandas.Series(dbpedia.train.target)\n",
    "x_test = pandas.DataFrame(dbpedia.test.data)[1]\n",
    "y_test = pandas.Series(dbpedia.test.target)"
   ]
  },
  {
   "cell_type": "code",
   "execution_count": 3,
   "metadata": {},
   "outputs": [],
   "source": [
    "import string\n",
    "from unidecode import unidecode\n",
    "alphabet = string.ascii_lowercase + string.digits + string.punctuation + '\\n' + '\\t'\n",
    "char_to_idx = dict((char, i) for i, char in enumerate(alphabet))\n",
    "idx_to_char = dict((i, char) for i, char in enumerate(alphabet))\n",
    "\n",
    "def txt_to_idx(txt) :\n",
    "    vectors = np.zeros(shape=(len(txt), len(alphabet)))\n",
    "    for i, char in enumerate(txt):\n",
    "        vector = np.zeros(len(alphabet))\n",
    "        try :\n",
    "            vector[char_to_idx[char]] = 1\n",
    "        except:\n",
    "            vector[char_to_idx['\\n']] = 1\n",
    "        vectors[i] = vector\n",
    "    return vectors"
   ]
  },
  {
   "cell_type": "code",
   "execution_count": 4,
   "metadata": {},
   "outputs": [],
   "source": [
    "tx_train = list(map(lambda t: txt_to_idx(unidecode(t).replace(' ', '').lower()), x_train))\n",
    "tx_test = list(map(lambda t: txt_to_idx(unidecode(t).replace(' ', '').lower()), x_test))"
   ]
  },
  {
   "cell_type": "code",
   "execution_count": null,
   "metadata": {},
   "outputs": [],
   "source": []
  }
 ],
 "metadata": {
  "kernelspec": {
   "display_name": "Python 3",
   "language": "python",
   "name": "python3"
  },
  "language_info": {
   "codemirror_mode": {
    "name": "ipython",
    "version": 3
   },
   "file_extension": ".py",
   "mimetype": "text/x-python",
   "name": "python",
   "nbconvert_exporter": "python",
   "pygments_lexer": "ipython3",
   "version": "3.6.4"
  }
 },
 "nbformat": 4,
 "nbformat_minor": 2
}
