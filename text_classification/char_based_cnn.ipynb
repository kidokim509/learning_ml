{
 "cells": [
  {
   "cell_type": "code",
   "execution_count": null,
   "metadata": {},
   "outputs": [],
   "source": [
    "import tensorflow as tf\n",
    "import pandas\n",
    "import numpy as np"
   ]
  },
  {
   "cell_type": "code",
   "execution_count": null,
   "metadata": {},
   "outputs": [],
   "source": [
    "dbpedia = tf.contrib.learn.datasets.load_dataset(\n",
    "  'dbpedia', test_with_fake_data=FLAGS.test_with_fake_data, size='large')\n",
    "x_train = pandas.DataFrame(dbpedia.train.data)[1]\n",
    "y_train = pandas.Series(dbpedia.train.target)\n",
    "x_test = pandas.DataFrame(dbpedia.test.data)[1]\n",
    "y_test = pandas.Series(dbpedia.test.target)"
   ]
  }
 ],
 "metadata": {
  "kernelspec": {
   "display_name": "Python 3",
   "language": "python",
   "name": "python3"
  },
  "language_info": {
   "codemirror_mode": {
    "name": "ipython",
    "version": 3
   },
   "file_extension": ".py",
   "mimetype": "text/x-python",
   "name": "python",
   "nbconvert_exporter": "python",
   "pygments_lexer": "ipython3",
   "version": "3.6.4"
  }
 },
 "nbformat": 4,
 "nbformat_minor": 2
}
